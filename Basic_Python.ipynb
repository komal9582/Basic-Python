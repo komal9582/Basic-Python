{
  "cells": [
    {
      "cell_type": "markdown",
      "source": [
        "# Pyhton Basic"
      ],
      "metadata": {
        "id": "V6FiXP4XLXU6"
      }
    },
    {
      "cell_type": "markdown",
      "source": [
        "#Theory Question"
      ],
      "metadata": {
        "id": "K1spqcP1X2ap"
      }
    },
    {
      "cell_type": "markdown",
      "source": [
        "1. What is Python, and why is it popular?\n",
        "  > Python is a high-level programming language known for its simplicity and readability. it was created by Guido van rossum and first released in 1991.\n",
        "  pyhton is weidely famous and used by industry, Data industry, python have lots of Libraies, Autometion, Image processing database etc.\n",
        "  \n"
      ],
      "metadata": {
        "id": "H77mTxx-LeAl"
      }
    },
    {
      "cell_type": "markdown",
      "source": [
        "2. What is an interpreter in Python?\n",
        "  >An interpreter in python is a program that reads and run code line by line. it translates python code into machine language that computer can understand and execute it.\n"
      ],
      "metadata": {
        "id": "pODg1Fy3N-Jh"
      }
    },
    {
      "cell_type": "markdown",
      "source": [
        "3. What are pre-defined keywords in Python?\n",
        "  > Pre-defined keywords in python are specific meanings reserved words that have specific meanings and purpose in the language. Define the structure and rules of pyhton."
      ],
      "metadata": {
        "id": "vw5HKUvNPHGQ"
      }
    },
    {
      "cell_type": "markdown",
      "source": [
        "4. Can keywords be used as variable names?\n",
        "   > NO, keywords can not be used as variable names because keywords have specific meanings.\n"
      ],
      "metadata": {
        "id": "TiTmqXlNRrIX"
      }
    },
    {
      "cell_type": "markdown",
      "source": [
        "5. What is mutability in Python?\n",
        "  > Mutability in python refer to whether or not an object's value can be changed after it is created. Example:list, dic, set.\n"
      ],
      "metadata": {
        "id": "vtRYR5lhS84b"
      }
    },
    {
      "cell_type": "markdown",
      "source": [
        "6. Why are lists mutable, but tuples are immutable ?\n",
        "  > List are mutable because it desinged to store dynamic that python allow to change, remove or add after it is created.\n",
        "   Tauples are immutable because thay are meant to store fixed , unchangeable data once it is created. it make tuples faster and safer."
      ],
      "metadata": {
        "id": "SVgFfwPHUMWn"
      }
    },
    {
      "cell_type": "markdown",
      "source": [
        "7. What is the difference between “==” and “is” operators in Python?\n",
        "  > \"==\" operater use for values is equal or not. In simple words we can say it's check Equality.\n",
        "but \"is\"operater use for compares whether both variables refer to the same object."
      ],
      "metadata": {
        "id": "5UoRZU2xVpoB"
      }
    },
    {
      "cell_type": "markdown",
      "source": [
        "8. What are logical operators in Python?\n",
        "  > Logical operators in python are used to combine conditional statements. 3 logical operators (and, or, not) which return True or Fales based on the logic."
      ],
      "metadata": {
        "id": "td9145sNWusg"
      }
    },
    {
      "cell_type": "markdown",
      "source": [
        "9. What is type casting in Python?\n",
        "  > Type casting in python converting one data into another. it is used when you want change the type of value (like truing a string into a number)."
      ],
      "metadata": {
        "id": "gvxIOmyrW1gG"
      }
    },
    {
      "cell_type": "markdown",
      "source": [
        "10. What is the difference between implicit and explicit type casting?\n",
        "  > The implicit type casting done automatically by python, no risk of data loss example: int to float.\n",
        "  > The explicit type casting done manually by the programmer, use function int(), float(), str().\n"
      ],
      "metadata": {
        "id": "8nHF5UwrW6PG"
      }
    },
    {
      "cell_type": "markdown",
      "source": [
        "11. What is the purpose of conditional statements in Python?\n",
        "   > The purpose of conditional statements in pyhton help program choose what to do next based on whether a candition is true ot fales."
      ],
      "metadata": {
        "id": "VknMEHONW_ls"
      }
    },
    {
      "cell_type": "markdown",
      "source": [
        "12. How does the elif statement work?\n",
        "   > The elif statements work when there are more than two condition to check. it's combined of \"else if\" and come after an if statements. If the first conditon is fales, Python check elif conditon, if ture, it runs that block otherwise, it moves on to the next condition or the final eles.  "
      ],
      "metadata": {
        "id": "d1U-FcDvXSLb"
      }
    },
    {
      "cell_type": "markdown",
      "source": [
        "13. What is the difference between for and while loops?\n",
        "  > For loops use when you know how many times to run the loops and while loops use when when you want to run the loop until a condtion becomes fales."
      ],
      "metadata": {
        "id": "MmT20bstXaWQ"
      }
    },
    {
      "cell_type": "markdown",
      "source": [
        "14. Describe a scenario where a while loop is more suitable than a for loop.\n",
        "   > While loop is more suitable than a for loop because when we are not know in advance how many time the loop should run, and loop depends on a condtion that may change during execution.\n",
        "   "
      ],
      "metadata": {
        "id": "try7YZA4Xdcw"
      }
    },
    {
      "cell_type": "markdown",
      "source": [
        "# Practical Questions"
      ],
      "metadata": {
        "id": "cgBwVrYTYDFI"
      }
    },
    {
      "cell_type": "code",
      "source": [
        "# 1. Write a Python program to print \"Hello, World!\".\n",
        "\n",
        "print(\"Hello, World!\")"
      ],
      "metadata": {
        "colab": {
          "base_uri": "https://localhost:8080/"
        },
        "id": "SreBaiDuj3_o",
        "outputId": "59afc370-e114-476b-fc27-941e50bfeca8"
      },
      "execution_count": null,
      "outputs": [
        {
          "output_type": "stream",
          "name": "stdout",
          "text": [
            "Hello, World!\n"
          ]
        }
      ]
    },
    {
      "cell_type": "code",
      "source": [
        "# 2. Write a Python program that displays your name and age.\n",
        "\n",
        "my_name = \"komal\"\n",
        "age = \"21\"\n",
        "print(my_name,)\n",
        "print(age)"
      ],
      "metadata": {
        "colab": {
          "base_uri": "https://localhost:8080/"
        },
        "id": "4EAP6wCKkWxB",
        "outputId": "7834423f-f297-47e8-e839-9a2ae8c6c82d"
      },
      "execution_count": null,
      "outputs": [
        {
          "output_type": "stream",
          "name": "stdout",
          "text": [
            "komal\n",
            "21\n"
          ]
        }
      ]
    },
    {
      "cell_type": "code",
      "source": [
        "# 3. Write code to print all the pre-defined keywords in Python using the keyword library.\n",
        "import keyword\n",
        "keywords_list = keyword.kwlist\n",
        "# print total number of keywords\n",
        "print(f\"Total number of keywords in python:{len(keywords_list)}\")\n",
        "# print all keywords\n",
        "for kw in keywords_list:\n",
        "  print(kw)\n",
        "\n"
      ],
      "metadata": {
        "colab": {
          "base_uri": "https://localhost:8080/"
        },
        "id": "f4VXRoeGkoQX",
        "outputId": "4b1c9ad5-4f49-469e-dbe2-d97a2a44605a"
      },
      "execution_count": null,
      "outputs": [
        {
          "output_type": "stream",
          "name": "stdout",
          "text": [
            "Total number of keywords in python:35\n",
            "False\n",
            "None\n",
            "True\n",
            "and\n",
            "as\n",
            "assert\n",
            "async\n",
            "await\n",
            "break\n",
            "class\n",
            "continue\n",
            "def\n",
            "del\n",
            "elif\n",
            "else\n",
            "except\n",
            "finally\n",
            "for\n",
            "from\n",
            "global\n",
            "if\n",
            "import\n",
            "in\n",
            "is\n",
            "lambda\n",
            "nonlocal\n",
            "not\n",
            "or\n",
            "pass\n",
            "raise\n",
            "return\n",
            "try\n",
            "while\n",
            "with\n",
            "yield\n"
          ]
        }
      ]
    },
    {
      "cell_type": "code",
      "source": [
        "# 4. Write a program that checks if a given word is a Python keyword.\n",
        "#Ask the user to enter the word\n",
        "word = input(\"Enter a word to check if it's a python keyword:\")\n",
        "\n",
        "#check if it's in keyword\n",
        "if keyword.iskeyword(word):\n",
        "  print(f\"yes '{word}' is python keyword.\")\n",
        "else:\n",
        "  print(f\"No '{word}' is python keyword.\")"
      ],
      "metadata": {
        "colab": {
          "base_uri": "https://localhost:8080/"
        },
        "id": "uhUrZW9AkrE7",
        "outputId": "407e8c57-8bfc-45fb-82d2-b8963d2a7be7"
      },
      "execution_count": null,
      "outputs": [
        {
          "output_type": "stream",
          "name": "stdout",
          "text": [
            "Enter a word to check if it's a python keyword:lambda\n",
            "yes 'lambda' is python keyword.\n"
          ]
        }
      ]
    },
    {
      "cell_type": "code",
      "source": [
        "# 5.Create a list and tuple in Python, and demonstrate how attempting to change an element works differently for each.\n",
        "# creating a list and a tuple\n",
        "my_list = [10, 20, 30, 40, 50]\n",
        "my_tuple = (10, 20, 30, 40, 50)\n",
        "\n",
        "# modify an element of list.\n",
        "print(\"original list:\", my_list)\n",
        "my_list[2] = 90\n",
        "print(\"modify list:\", my_list)\n",
        "\n",
        "# modify an element of Tuple\n",
        "print(\"original tuple:\", my_tuple)\n",
        "try:\n",
        "    my_tuple[3] = 100   # it will raise an error\n",
        "except TypeError as e:\n",
        "     print(\"error\", e)\n",
        "\n"
      ],
      "metadata": {
        "colab": {
          "base_uri": "https://localhost:8080/"
        },
        "id": "ZjLCl2y9kqqA",
        "outputId": "2a392349-c173-4395-8515-a6d9e99e3ad9"
      },
      "execution_count": null,
      "outputs": [
        {
          "output_type": "stream",
          "name": "stdout",
          "text": [
            "original list: [10, 20, 30, 40, 50]\n",
            "modify list: [10, 20, 90, 40, 50]\n",
            "original tuple: (10, 20, 30, 40, 50)\n",
            "error 'tuple' object does not support item assignment\n"
          ]
        }
      ]
    },
    {
      "cell_type": "code",
      "source": [
        "# 6. Write a function to demonstrate the behavior of mutable and immutable arguments.\n",
        "def modify_arguments(num, num_list):\n",
        "    # Try modifying the integer (immutable)\n",
        "\n",
        "    print(\"Inside function (before change):\")\n",
        "    print(f\"num = {num}\")\n",
        "    print(f\"num_list = {num_list}\")\n",
        "\n",
        "    num += 10              # This creates a new integer object\n",
        "    num_list.append(99)    # This modifies the original list\n",
        "\n",
        "    print(\"\\nInside function (after change):\")\n",
        "    print(f\"num = {num}\")\n",
        "    print(f\"num_list = {num_list}\")\n",
        "\n",
        "\n",
        "# Main program\n",
        "x = 5                     # Immutable\n",
        "my_list = [1, 2, 3]       # Mutable\n",
        "\n",
        "modify_arguments(x, my_list)\n",
        "\n",
        "print(\"\\nOutside function:\")\n",
        "print(f\"x = {x}\")             # Unchanged\n",
        "print(f\"my_list = {my_list}\") # Changed"
      ],
      "metadata": {
        "id": "AyJ2jY41kqmn",
        "colab": {
          "base_uri": "https://localhost:8080/"
        },
        "outputId": "b9f27ef3-4cb5-428b-b74c-6bdfda30000c"
      },
      "execution_count": null,
      "outputs": [
        {
          "output_type": "stream",
          "name": "stdout",
          "text": [
            "Inside function (before change):\n",
            "num = 5\n",
            "num_list = [1, 2, 3]\n",
            "\n",
            "Inside function (after change):\n",
            "num = 15\n",
            "num_list = [1, 2, 3, 99]\n",
            "\n",
            "Outside function:\n",
            "x = 5\n",
            "my_list = [1, 2, 3, 99]\n"
          ]
        }
      ]
    },
    {
      "cell_type": "code",
      "source": [
        "# 7. Write a program that performs basic arithmetic operations on two user-input numbers.\n",
        "# Get two input from yhe user\n",
        "num1 = int(input(\"Enter the first number:\"))\n",
        "num2 = int(input(\"Enter the second number:\"))\n",
        "# Performs basic arithmetic operations\n",
        "print(\"arithmetic operatore:\")\n",
        "print(f\"addtion: {num1 + num2} = {num1 + num2}\")\n",
        "print(f\"subtracion: {num1 - num2} = {num1-num2}\")\n",
        "print(f\"multiplication: {num1 * num2} = {num1 * num2}\")\n",
        "print(f\"ecponention: {num1 ** num2} = {num1 **num2}\")\n",
        "if num2 != 0:\n",
        "   print(f\"division: {num1 / num2} = {num1 / num2}\")"
      ],
      "metadata": {
        "id": "UsLU4ABWkqj1",
        "colab": {
          "base_uri": "https://localhost:8080/"
        },
        "outputId": "916b2985-f945-4093-de50-983c65daa995"
      },
      "execution_count": null,
      "outputs": [
        {
          "output_type": "stream",
          "name": "stdout",
          "text": [
            "Enter the first number:25\n",
            "Enter the second number:5\n",
            "arithmetic operatore:\n",
            "addtion: 30 = 30\n",
            "subtracion: 20 = 20\n",
            "multiplication: 125 = 125\n",
            "ecponention: 9765625 = 9765625\n",
            "division: 5.0 = 5.0\n"
          ]
        }
      ]
    },
    {
      "cell_type": "code",
      "source": [
        "# 8. Write a program to demonstrate the use of logical operators.\n",
        "# Use of logical operators\n",
        "# Get input fron user\n",
        "x = int(input(\"Enter the first number (x):\"))\n",
        "y = int(input(\"Enter the second number (y):\"))\n",
        "\n",
        "print(\"Logical operators\")\n",
        "\n",
        "# logical \"and\"\n",
        "print(f\"(x > y and x < y) : {x > y and x < y}\")\n",
        "\n",
        "# logical \"or\"\n",
        "print(f\"(x > y or x < y) ; {x > y or x < y}\")\n",
        "\n",
        "# logical \"not\"\n",
        "print(f\"not(x > y): {not(x > y)}\")\n"
      ],
      "metadata": {
        "id": "ZeEXc8WvkqhL",
        "colab": {
          "base_uri": "https://localhost:8080/"
        },
        "outputId": "130ff289-2ea8-4bb8-be2a-844e4246d1f0"
      },
      "execution_count": null,
      "outputs": [
        {
          "output_type": "stream",
          "name": "stdout",
          "text": [
            "Enter the first number (x):4\n",
            "Enter the second number (y):0\n",
            "Logical operators\n",
            "(x > y and x < y) : False\n",
            "(x > y or x < y) ; True\n",
            "not(x > y): False\n"
          ]
        }
      ]
    },
    {
      "cell_type": "code",
      "source": [
        "# 9.Write a Python program to convert user input from string to integer, float, and boolean types.\n",
        "# Get input from thr user\n",
        "value = input(\"Enter value\")\n",
        "\n",
        "# convert to integer\n",
        "int_value = int(value)\n",
        "print(\"Integer:\", int_value)\n",
        "\n",
        "# convert to float\n",
        "float_value = float(value)\n",
        "print(\"Float:\", float_value)\n",
        "\n",
        "# convert to boolean\n",
        "bool_value = bool(value)\n",
        "print(\"Boolean:\", bool_value)"
      ],
      "metadata": {
        "id": "A8GZNmn9kqec",
        "colab": {
          "base_uri": "https://localhost:8080/"
        },
        "outputId": "fa115b7f-0f54-446f-c182-b88bf6142035"
      },
      "execution_count": null,
      "outputs": [
        {
          "output_type": "stream",
          "name": "stdout",
          "text": [
            "Enter value50\n",
            "Integer: 50\n",
            "Float: 50.0\n",
            "Boolean: True\n"
          ]
        }
      ]
    },
    {
      "cell_type": "code",
      "source": [
        "# 10. Write code to demonstrate type casting with list elements.\n",
        "# Original list with strings that look like number\n",
        "str_list = [\"10\",\"20\", \"30\", \"40\"]\n",
        "print(\"original list (strings):\",str_list)\n",
        "\n",
        "# Typecasting each element from strings to integer\n",
        "int_list = [int(item) for item in str_list]\n",
        "print (\"After typecasting to integer:\",int_list)\n",
        "\n",
        "# Typecastintegr to float\n",
        "float_list = [float(item) for item in int_list]\n",
        "print(\"After typecasting to float:\",float_list)"
      ],
      "metadata": {
        "id": "fpKQVq1lkqbb",
        "colab": {
          "base_uri": "https://localhost:8080/"
        },
        "outputId": "5cff11f1-5a23-4d6e-e9e3-24e290bd03bc"
      },
      "execution_count": null,
      "outputs": [
        {
          "output_type": "stream",
          "name": "stdout",
          "text": [
            "original list (strings): ['10', '20', '30', '40']\n",
            "After typecasting to integer: [10, 20, 30, 40]\n",
            "After typecasting to float: [10.0, 20.0, 30.0, 40.0]\n"
          ]
        }
      ]
    },
    {
      "cell_type": "code",
      "source": [
        "# 11. Write a program that checks if a number is positive, negative, or zero.\n",
        "# Get the input from user\n",
        "num = int(input (\"Enter the number\"))\n",
        "\n",
        "# check condition\n",
        "if num > 0:\n",
        "  print(\"Number is positive\")\n",
        "elif num < 0:\n",
        "  print(\"Number is nagetive\")\n",
        "else:\n",
        "  (\"Number is zero\")"
      ],
      "metadata": {
        "id": "u8pOqLTAkqYs",
        "colab": {
          "base_uri": "https://localhost:8080/"
        },
        "outputId": "31737a62-79bf-407b-f367-7357893bef29"
      },
      "execution_count": null,
      "outputs": [
        {
          "output_type": "stream",
          "name": "stdout",
          "text": [
            "Enter the number3\n",
            "Number is positive\n"
          ]
        }
      ]
    },
    {
      "cell_type": "code",
      "source": [
        "# 12. Write a for loop to print numbers from 1 to 10.\n",
        "for i in range(1, 11):\n",
        "  print(i)"
      ],
      "metadata": {
        "id": "fK8rb9L-kqVv",
        "colab": {
          "base_uri": "https://localhost:8080/"
        },
        "outputId": "456b765f-58ca-42f6-ac27-dab22747c276"
      },
      "execution_count": null,
      "outputs": [
        {
          "output_type": "stream",
          "name": "stdout",
          "text": [
            "1\n",
            "2\n",
            "3\n",
            "4\n",
            "5\n",
            "6\n",
            "7\n",
            "8\n",
            "9\n",
            "10\n"
          ]
        }
      ]
    },
    {
      "cell_type": "code",
      "source": [
        "# 13. Write a Python program to find the sum of all even numbers between 1 and 50.\n",
        "sum_even = 0\n",
        "for i in range(2, 50, 2):\n",
        "  sum_even += i\n",
        "\n",
        "print (\"sum all even number between 1 to 50:\", sum_even)"
      ],
      "metadata": {
        "id": "nJ22LIXhkqJn",
        "colab": {
          "base_uri": "https://localhost:8080/"
        },
        "outputId": "08319499-80f1-4da7-dff8-ed9d08334ebb"
      },
      "execution_count": null,
      "outputs": [
        {
          "output_type": "stream",
          "name": "stdout",
          "text": [
            "sum all even number between 1 to 50: 600\n"
          ]
        }
      ]
    },
    {
      "cell_type": "code",
      "source": [
        "# 14.  Write a program to reverse a string using a while loop.\n",
        "text = input(\"Enter a string: \")\n",
        "\n",
        "# Initialize variables\n",
        "reversed_text = \"\"\n",
        "index = len(text) - 1\n",
        "\n",
        "# Use while loop to reverse the string\n",
        "while index >= 0:\n",
        "    reversed_text += text[index]\n",
        "    index -= 1\n",
        "\n",
        "# Print the reversed string\n",
        "print(\"Reversed string:\", reversed_text)"
      ],
      "metadata": {
        "id": "1fC-d-jskp95",
        "colab": {
          "base_uri": "https://localhost:8080/"
        },
        "outputId": "f67b6772-f831-461a-a065-7a59737ec688"
      },
      "execution_count": null,
      "outputs": [
        {
          "output_type": "stream",
          "name": "stdout",
          "text": [
            "Enter a string: komal\n",
            "Reversed string: lamok\n"
          ]
        }
      ]
    },
    {
      "cell_type": "code",
      "source": [
        "# 15. Write a Python program to calculate the factorial of a number provided by the user using a while loop. # Get input from the user\n",
        "num = int(input(\"Enter a number: \"))\n",
        "\n",
        "# Initialize variables\n",
        "factorial = 1\n",
        "i = 1\n",
        "\n",
        "# Calculate factorial using while loop\n",
        "while i <= num:\n",
        "    factorial *= i\n",
        "    i += 1\n",
        "\n",
        "# Print the result\n",
        "print(\"Factorial of\", num, \"is:\", factorial)"
      ],
      "metadata": {
        "id": "xLN4pBU_nAWG",
        "colab": {
          "base_uri": "https://localhost:8080/"
        },
        "outputId": "7df5104d-847a-4d50-ee69-0619e43a3d56"
      },
      "execution_count": null,
      "outputs": [
        {
          "output_type": "stream",
          "name": "stdout",
          "text": [
            "Enter a number: 5\n",
            "Factorial of 5 is: 120\n"
          ]
        }
      ]
    }
  ],
  "metadata": {
    "colab": {
      "provenance": []
    },
    "kernelspec": {
      "display_name": "Python 3",
      "name": "python3"
    }
  },
  "nbformat": 4,
  "nbformat_minor": 0
}